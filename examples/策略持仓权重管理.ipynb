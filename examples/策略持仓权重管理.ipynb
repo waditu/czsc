{
 "cells": [
  {
   "cell_type": "markdown",
   "metadata": {},
   "source": [
    "# 策略持仓权重管理\n",
    "---"
   ]
  },
  {
   "cell_type": "code",
   "execution_count": 1,
   "metadata": {},
   "outputs": [
    {
     "data": {
      "text/plain": [
       "True"
      ]
     },
     "execution_count": 1,
     "metadata": {},
     "output_type": "execute_result"
    }
   ],
   "source": [
    "# 设置 Redis 链接信息，用于存储持仓权重信息\n",
    "import os\n",
    "os.environ['RWC_REDIS_URL'] = 'redis://***:***@***:6379/0'\n",
    "\n",
    "# 也可以使用 dotenv 来设置环境变量\n",
    "from dotenv import load_dotenv\n",
    "# load_dotenv(r'path/to/.env', override=True)\n",
    "load_dotenv(r\"D:\\ZB\\git_repo\\waditu\\czsc\\examples\\test_offline\\.env\", override=True)"
   ]
  },
  {
   "cell_type": "markdown",
   "metadata": {},
   "source": [
    "### 一、写入策略持仓权重\n",
    "\n",
    "策略持仓权重样例数据可以从飞书文档中下载："
   ]
  },
  {
   "cell_type": "code",
   "execution_count": null,
   "metadata": {},
   "outputs": [],
   "source": [
    "import czsc\n",
    "import redis\n",
    "import pandas as pd\n",
    "\n",
    "# 创建 BlockingConnectionPool 连接池，必须设置 decode_responses=True 参数，否则返回的数据是 bytes 类型\n",
    "connection_pool = redis.BlockingConnectionPool.from_url(os.getenv(\"RWC_REDIS_URL\"), decode_responses=True)\n",
    "\n",
    "\n",
    "# 策略写入阶段，必须设置 send_heartbeat=True 参数，这样可以在写入数据时自动更新策略的最新写入时间\n",
    "rwc = czsc.RedisWeightsClient('TestStrategy', connection_pool=connection_pool, key_prefix='Weights', send_heartbeat=True)\n",
    "\n",
    "# 首次写入，建议设置一些策略元数据\n",
    "rwc.set_metadata(description='测试策略：仅用于读写redis测试', base_freq='日线', author='测试A', outsample_sdt='20220101')\n",
    "\n",
    "# 查看策略元数据\n",
    "print(\"策略元数据：\", rwc.metadata)\n",
    "\n",
    "# 写入策略持仓权重，样例数据下载：https://s0cqcxuy3p.feishu.cn/wiki/Pf1fw1woQi4iJikbKJmcYToznxb\n",
    "dfw = pd.read_feather(r\"C:\\Users\\zengb\\Downloads\\weight_example.feather\")\n",
    "\n",
    "# on_bar 模式下可以按单条数据写入\n",
    "rwc.publish(**dfw.iloc[0].to_dict())\n",
    "\n",
    "# 批量写入可以提高效率\n",
    "rwc.publish_dataframe(dfw, overwrite=False, batch_size=10000)"
   ]
  }
 ],
 "metadata": {
  "kernelspec": {
   "display_name": "PY311",
   "language": "python",
   "name": "python3"
  },
  "language_info": {
   "codemirror_mode": {
    "name": "ipython",
    "version": 3
   },
   "file_extension": ".py",
   "mimetype": "text/x-python",
   "name": "python",
   "nbconvert_exporter": "python",
   "pygments_lexer": "ipython3",
   "version": "3.11.3"
  }
 },
 "nbformat": 4,
 "nbformat_minor": 2
}
