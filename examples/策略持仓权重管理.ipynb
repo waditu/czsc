{
 "cells": [
  {
   "cell_type": "markdown",
   "metadata": {},
   "source": [
    "# 策略持仓权重管理\n",
    "---"
   ]
  },
  {
   "cell_type": "code",
   "execution_count": 1,
   "metadata": {},
   "outputs": [
    {
     "data": {
      "text/plain": [
       "True"
      ]
     },
     "execution_count": 1,
     "metadata": {},
     "output_type": "execute_result"
    }
   ],
   "source": [
    "# 设置 Redis 链接信息，用于存储持仓权重信息\n",
    "import os\n",
    "os.environ['RWC_REDIS_URL'] = 'redis://***:***@***:6379/0'\n",
    "\n",
    "# 也可以使用 dotenv 来设置环境变量\n",
    "from dotenv import load_dotenv\n",
    "# load_dotenv(r'path/to/.env', override=True)\n",
    "load_dotenv(r\"D:\\ZB\\git_repo\\waditu\\czsc\\examples\\test_offline\\.env\", override=True)"
   ]
  },
  {
   "cell_type": "markdown",
   "metadata": {},
   "source": [
    "### 一、写入策略持仓权重\n",
    "\n",
    "\n",
    "策略持仓权重样例数据可以从飞书文档中下载："
   ]
  },
  {
   "cell_type": "code",
   "execution_count": 3,
   "metadata": {},
   "outputs": [
    {
     "name": "stderr",
     "output_type": "stream",
     "text": [
      "\u001b[32m2024-03-07 20:49:38.448\u001b[0m | \u001b[1mINFO    \u001b[0m | \u001b[36mczsc.traders.rwc\u001b[0m:\u001b[36m__init__\u001b[0m:\u001b[36m62\u001b[0m - \u001b[1mTestStrategy Weights: 使用传入的 redis 连接池\u001b[0m\n",
      "\u001b[32m2024-03-07 20:49:39.819\u001b[0m | \u001b[33m\u001b[1mWARNING \u001b[0m | \u001b[36mczsc.traders.rwc\u001b[0m:\u001b[36mset_metadata\u001b[0m:\u001b[36m85\u001b[0m - \u001b[33m\u001b[1m已存在 TestStrategy 的元数据，如需覆盖请设置 overwrite=True\u001b[0m\n"
     ]
    },
    {
     "name": "stdout",
     "output_type": "stream",
     "text": [
      "策略元数据： {'name': 'TestStrategy', 'base_freq': '日线', 'key_prefix': 'Weights', 'description': '测试策略：仅用于读写redis测试', 'author': '测试A', 'outsample_sdt': '20220101', 'update_time': '2024-03-07 20:49:05', 'kwargs': '{}'}\n"
     ]
    },
    {
     "name": "stderr",
     "output_type": "stream",
     "text": [
      "\u001b[32m2024-03-07 20:49:40.338\u001b[0m | \u001b[1mINFO    \u001b[0m | \u001b[36mczsc.traders.rwc\u001b[0m:\u001b[36mpublish_dataframe\u001b[0m:\u001b[36m172\u001b[0m - \u001b[1m输入数据中有 3938513 条权重信号\u001b[0m\n"
     ]
    },
    {
     "name": "stdout",
     "output_type": "stream",
     "text": [
      "持仓权重数据：\n",
      "                    dt    symbol  weight  price\n",
      "0 2018-03-26 09:01:00  SEsc9001     0.0  442.9\n",
      "1 2018-03-26 09:02:00  SEsc9001     0.0  441.2\n",
      "2 2018-03-26 09:03:00  SEsc9001     0.0  440.4\n",
      "3 2018-03-26 09:04:00  SEsc9001     0.0  439.5\n",
      "4 2018-03-26 09:05:00  SEsc9001     0.0  440.7\n"
     ]
    },
    {
     "name": "stderr",
     "output_type": "stream",
     "text": [
      "\u001b[32m2024-03-07 20:49:41.165\u001b[0m | \u001b[1mINFO    \u001b[0m | \u001b[36mczsc.traders.rwc\u001b[0m:\u001b[36mpublish_dataframe\u001b[0m:\u001b[36m182\u001b[0m - \u001b[1m去除单个品种下相邻时间权重相同的数据后，剩余 29906 条权重信号\u001b[0m\n",
      "\u001b[32m2024-03-07 20:49:42.327\u001b[0m | \u001b[1mINFO    \u001b[0m | \u001b[36mczsc.traders.rwc\u001b[0m:\u001b[36mpublish_dataframe\u001b[0m:\u001b[36m199\u001b[0m - \u001b[1m不允许重复写入，已过滤 29906 条重复信号\u001b[0m\n",
      "\u001b[32m2024-03-07 20:49:42.518\u001b[0m | \u001b[1mINFO    \u001b[0m | \u001b[36mczsc.traders.rwc\u001b[0m:\u001b[36mupdate_last\u001b[0m:\u001b[36m105\u001b[0m - \u001b[1m更新 Weights:LAST:TestStrategy 的 last 时间\u001b[0m\n"
     ]
    },
    {
     "data": {
      "text/plain": [
       "0"
      ]
     },
     "execution_count": 3,
     "metadata": {},
     "output_type": "execute_result"
    }
   ],
   "source": [
    "import czsc\n",
    "import redis\n",
    "import pandas as pd\n",
    "\n",
    "# 创建 BlockingConnectionPool 连接池，必须设置 decode_responses=True 参数，否则返回的数据是 bytes 类型\n",
    "connection_pool = redis.BlockingConnectionPool.from_url(os.getenv(\"RWC_REDIS_URL\"), decode_responses=True)\n",
    "\n",
    "\n",
    "# 策略写入阶段，必须设置 send_heartbeat=True 参数，这样可以在写入数据时自动更新策略的最新写入时间\n",
    "rwc = czsc.RedisWeightsClient('TestStrategy', connection_pool=connection_pool, key_prefix='Weights', send_heartbeat=True)\n",
    "\n",
    "# 首次写入，建议设置一些策略元数据\n",
    "rwc.set_metadata(description='测试策略：仅用于读写redis测试', base_freq='日线', author='测试A', outsample_sdt='20220101')\n",
    "\n",
    "# 查看策略元数据\n",
    "print(\"策略元数据：\", rwc.metadata)\n",
    "\n",
    "# 写入策略持仓权重，样例数据下载：https://s0cqcxuy3p.feishu.cn/wiki/Pf1fw1woQi4iJikbKJmcYToznxb\n",
    "dfw = pd.read_feather(r\"C:\\Users\\zengb\\Downloads\\weight_example.feather\")\n",
    "print(\"持仓权重数据：\\n\", dfw.head())\n",
    "\n",
    "# on_bar 模式下按单条数据写入，效率更高，可以实时更新持仓权重\n",
    "# rwc.publish(**dfw.iloc[0].to_dict())\n",
    "\n",
    "# 盘后或者定时执行的策略，批量写入可以提高效率\n",
    "rwc.publish_dataframe(dfw, overwrite=False, batch_size=10000)"
   ]
  },
  {
   "cell_type": "markdown",
   "metadata": {},
   "source": [
    "### 二、读取策略持仓权重\n",
    "\n"
   ]
  },
  {
   "cell_type": "code",
   "execution_count": null,
   "metadata": {},
   "outputs": [],
   "source": []
  },
  {
   "cell_type": "markdown",
   "metadata": {},
   "source": [
    "### 三、删除 redis 中的策略"
   ]
  },
  {
   "cell_type": "code",
   "execution_count": 8,
   "metadata": {},
   "outputs": [
    {
     "name": "stderr",
     "output_type": "stream",
     "text": [
      "\u001b[32m2024-03-07 20:41:12.209\u001b[0m | \u001b[1mINFO    \u001b[0m | \u001b[36mczsc.traders.rwc\u001b[0m:\u001b[36m__init__\u001b[0m:\u001b[36m67\u001b[0m - \u001b[1mSTK008pro_3 WeightsB: 使用环境变量 RWC_REDIS_URL 创建 redis 连接池\u001b[0m\n",
      "\u001b[32m2024-03-07 20:41:17.818\u001b[0m | \u001b[1mINFO    \u001b[0m | \u001b[36mczsc.traders.rwc\u001b[0m:\u001b[36mclear_all\u001b[0m:\u001b[36m262\u001b[0m - \u001b[1mSTK008pro_3 删除了 16714 条记录\u001b[0m\n"
     ]
    }
   ],
   "source": [
    "import os\n",
    "import czsc\n",
    "\n",
    "# 获取 RWC_REDIS_URL 环境变量，用于连接 Redis\n",
    "# redis_url = os.getenv(\"RWC_REDIS_URL\")\n",
    "# czsc.clear_strategy(strategy_name=\"TestStrategy\", redis_url=redis_url, key_prefix=\"Weights\")\n",
    "\n",
    "# redis_url 参数可以省略，如果省略则使用环境变量 RWC_REDIS_URL\n",
    "czsc.clear_strategy(strategy_name=\"TestStrategy\", key_prefix=\"Weights\")"
   ]
  },
  {
   "cell_type": "code",
   "execution_count": null,
   "metadata": {},
   "outputs": [],
   "source": []
  }
 ],
 "metadata": {
  "kernelspec": {
   "display_name": "PY311",
   "language": "python",
   "name": "python3"
  },
  "language_info": {
   "codemirror_mode": {
    "name": "ipython",
    "version": 3
   },
   "file_extension": ".py",
   "mimetype": "text/x-python",
   "name": "python",
   "nbconvert_exporter": "python",
   "pygments_lexer": "ipython3",
   "version": "3.11.3"
  }
 },
 "nbformat": 4,
 "nbformat_minor": 2
}
